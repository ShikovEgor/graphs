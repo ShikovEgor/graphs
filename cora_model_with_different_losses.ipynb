{
 "cells": [
  {
   "cell_type": "code",
   "execution_count": 1,
   "metadata": {},
   "outputs": [],
   "source": [
    "import pandas as pd\n",
    "import numpy as np"
   ]
  },
  {
   "cell_type": "code",
   "execution_count": null,
   "metadata": {},
   "outputs": [],
   "source": [
    "# Препроцессинг"
   ]
  },
  {
   "cell_type": "code",
   "execution_count": 2,
   "metadata": {},
   "outputs": [],
   "source": [
    "import json\n",
    "with open('cora_features', 'r')  as f:\n",
    "    features = json.load(f)"
   ]
  },
  {
   "cell_type": "code",
   "execution_count": 3,
   "metadata": {},
   "outputs": [
    {
     "data": {
      "text/plain": [
       "2708"
      ]
     },
     "execution_count": 3,
     "metadata": {},
     "output_type": "execute_result"
    }
   ],
   "source": [
    "len(features.keys())"
   ]
  },
  {
   "cell_type": "code",
   "execution_count": null,
   "metadata": {},
   "outputs": [],
   "source": []
  },
  {
   "cell_type": "code",
   "execution_count": 4,
   "metadata": {},
   "outputs": [],
   "source": [
    "edges = pd.read_csv('cora_edges.csv')"
   ]
  },
  {
   "cell_type": "code",
   "execution_count": 5,
   "metadata": {},
   "outputs": [],
   "source": [
    "edges2 = edges[(edges.Source.isin(np.array(list(features.keys())).astype(int)))&(edges.Target.isin(np.array(list(features.keys())).astype(int)))]"
   ]
  },
  {
   "cell_type": "code",
   "execution_count": 6,
   "metadata": {},
   "outputs": [
    {
     "data": {
      "text/html": [
       "<div>\n",
       "<style scoped>\n",
       "    .dataframe tbody tr th:only-of-type {\n",
       "        vertical-align: middle;\n",
       "    }\n",
       "\n",
       "    .dataframe tbody tr th {\n",
       "        vertical-align: top;\n",
       "    }\n",
       "\n",
       "    .dataframe thead th {\n",
       "        text-align: right;\n",
       "    }\n",
       "</style>\n",
       "<table border=\"1\" class=\"dataframe\">\n",
       "  <thead>\n",
       "    <tr style=\"text-align: right;\">\n",
       "      <th></th>\n",
       "      <th>Target</th>\n",
       "      <th>Source</th>\n",
       "    </tr>\n",
       "  </thead>\n",
       "  <tbody>\n",
       "    <tr>\n",
       "      <th>0</th>\n",
       "      <td>35</td>\n",
       "      <td>1033</td>\n",
       "    </tr>\n",
       "    <tr>\n",
       "      <th>1</th>\n",
       "      <td>35</td>\n",
       "      <td>103482</td>\n",
       "    </tr>\n",
       "    <tr>\n",
       "      <th>2</th>\n",
       "      <td>35</td>\n",
       "      <td>103515</td>\n",
       "    </tr>\n",
       "    <tr>\n",
       "      <th>3</th>\n",
       "      <td>35</td>\n",
       "      <td>1050679</td>\n",
       "    </tr>\n",
       "    <tr>\n",
       "      <th>4</th>\n",
       "      <td>35</td>\n",
       "      <td>1103960</td>\n",
       "    </tr>\n",
       "    <tr>\n",
       "      <th>...</th>\n",
       "      <td>...</td>\n",
       "      <td>...</td>\n",
       "    </tr>\n",
       "    <tr>\n",
       "      <th>10551</th>\n",
       "      <td>853155</td>\n",
       "      <td>853115</td>\n",
       "    </tr>\n",
       "    <tr>\n",
       "      <th>10552</th>\n",
       "      <td>853155</td>\n",
       "      <td>853116</td>\n",
       "    </tr>\n",
       "    <tr>\n",
       "      <th>10553</th>\n",
       "      <td>1140289</td>\n",
       "      <td>853118</td>\n",
       "    </tr>\n",
       "    <tr>\n",
       "      <th>10554</th>\n",
       "      <td>853118</td>\n",
       "      <td>853155</td>\n",
       "    </tr>\n",
       "    <tr>\n",
       "      <th>10555</th>\n",
       "      <td>1155073</td>\n",
       "      <td>954315</td>\n",
       "    </tr>\n",
       "  </tbody>\n",
       "</table>\n",
       "<p>10556 rows × 2 columns</p>\n",
       "</div>"
      ],
      "text/plain": [
       "        Target   Source\n",
       "0           35     1033\n",
       "1           35   103482\n",
       "2           35   103515\n",
       "3           35  1050679\n",
       "4           35  1103960\n",
       "...        ...      ...\n",
       "10551   853155   853115\n",
       "10552   853155   853116\n",
       "10553  1140289   853118\n",
       "10554   853118   853155\n",
       "10555  1155073   954315\n",
       "\n",
       "[10556 rows x 2 columns]"
      ]
     },
     "execution_count": 6,
     "metadata": {},
     "output_type": "execute_result"
    }
   ],
   "source": [
    "edges2"
   ]
  },
  {
   "cell_type": "code",
   "execution_count": 7,
   "metadata": {},
   "outputs": [],
   "source": [
    "old_indexes = np.array(list(features.keys())).astype(int)\n",
    "new_indexes = range(len(old_indexes))\n",
    "voc1 = dict(zip(old_indexes, new_indexes))\n",
    "voc2 = dict(zip(new_indexes, old_indexes))"
   ]
  },
  {
   "cell_type": "code",
   "execution_count": 8,
   "metadata": {},
   "outputs": [],
   "source": [
    "edges2.Source = edges2.Source.apply(lambda x: voc1[x])\n",
    "edges2.Target = edges2.Target.apply(lambda x: voc1[x])"
   ]
  },
  {
   "cell_type": "code",
   "execution_count": 9,
   "metadata": {},
   "outputs": [
    {
     "data": {
      "text/html": [
       "<div>\n",
       "<style scoped>\n",
       "    .dataframe tbody tr th:only-of-type {\n",
       "        vertical-align: middle;\n",
       "    }\n",
       "\n",
       "    .dataframe tbody tr th {\n",
       "        vertical-align: top;\n",
       "    }\n",
       "\n",
       "    .dataframe thead th {\n",
       "        text-align: right;\n",
       "    }\n",
       "</style>\n",
       "<table border=\"1\" class=\"dataframe\">\n",
       "  <thead>\n",
       "    <tr style=\"text-align: right;\">\n",
       "      <th></th>\n",
       "      <th>Target</th>\n",
       "      <th>Source</th>\n",
       "    </tr>\n",
       "  </thead>\n",
       "  <tbody>\n",
       "    <tr>\n",
       "      <th>0</th>\n",
       "      <td>163</td>\n",
       "      <td>402</td>\n",
       "    </tr>\n",
       "    <tr>\n",
       "      <th>1</th>\n",
       "      <td>163</td>\n",
       "      <td>659</td>\n",
       "    </tr>\n",
       "    <tr>\n",
       "      <th>2</th>\n",
       "      <td>163</td>\n",
       "      <td>1696</td>\n",
       "    </tr>\n",
       "    <tr>\n",
       "      <th>3</th>\n",
       "      <td>163</td>\n",
       "      <td>2295</td>\n",
       "    </tr>\n",
       "    <tr>\n",
       "      <th>4</th>\n",
       "      <td>163</td>\n",
       "      <td>1274</td>\n",
       "    </tr>\n",
       "    <tr>\n",
       "      <th>...</th>\n",
       "      <td>...</td>\n",
       "      <td>...</td>\n",
       "    </tr>\n",
       "    <tr>\n",
       "      <th>10551</th>\n",
       "      <td>1902</td>\n",
       "      <td>1885</td>\n",
       "    </tr>\n",
       "    <tr>\n",
       "      <th>10552</th>\n",
       "      <td>1902</td>\n",
       "      <td>1886</td>\n",
       "    </tr>\n",
       "    <tr>\n",
       "      <th>10553</th>\n",
       "      <td>2258</td>\n",
       "      <td>1887</td>\n",
       "    </tr>\n",
       "    <tr>\n",
       "      <th>10554</th>\n",
       "      <td>1887</td>\n",
       "      <td>1902</td>\n",
       "    </tr>\n",
       "    <tr>\n",
       "      <th>10555</th>\n",
       "      <td>1686</td>\n",
       "      <td>837</td>\n",
       "    </tr>\n",
       "  </tbody>\n",
       "</table>\n",
       "<p>10556 rows × 2 columns</p>\n",
       "</div>"
      ],
      "text/plain": [
       "       Target  Source\n",
       "0         163     402\n",
       "1         163     659\n",
       "2         163    1696\n",
       "3         163    2295\n",
       "4         163    1274\n",
       "...       ...     ...\n",
       "10551    1902    1885\n",
       "10552    1902    1886\n",
       "10553    2258    1887\n",
       "10554    1887    1902\n",
       "10555    1686     837\n",
       "\n",
       "[10556 rows x 2 columns]"
      ]
     },
     "execution_count": 9,
     "metadata": {},
     "output_type": "execute_result"
    }
   ],
   "source": [
    "edges2"
   ]
  },
  {
   "cell_type": "code",
   "execution_count": 10,
   "metadata": {},
   "outputs": [],
   "source": [
    "features2 = dict(zip(new_indexes, features.values()))"
   ]
  },
  {
   "cell_type": "code",
   "execution_count": 11,
   "metadata": {},
   "outputs": [
    {
     "data": {
      "text/html": [
       "<div>\n",
       "<style scoped>\n",
       "    .dataframe tbody tr th:only-of-type {\n",
       "        vertical-align: middle;\n",
       "    }\n",
       "\n",
       "    .dataframe tbody tr th {\n",
       "        vertical-align: top;\n",
       "    }\n",
       "\n",
       "    .dataframe thead th {\n",
       "        text-align: right;\n",
       "    }\n",
       "</style>\n",
       "<table border=\"1\" class=\"dataframe\">\n",
       "  <thead>\n",
       "    <tr style=\"text-align: right;\">\n",
       "      <th></th>\n",
       "      <th>Target</th>\n",
       "      <th>Source</th>\n",
       "    </tr>\n",
       "  </thead>\n",
       "  <tbody>\n",
       "    <tr>\n",
       "      <th>0</th>\n",
       "      <td>163</td>\n",
       "      <td>402</td>\n",
       "    </tr>\n",
       "    <tr>\n",
       "      <th>1</th>\n",
       "      <td>163</td>\n",
       "      <td>659</td>\n",
       "    </tr>\n",
       "    <tr>\n",
       "      <th>2</th>\n",
       "      <td>163</td>\n",
       "      <td>1696</td>\n",
       "    </tr>\n",
       "    <tr>\n",
       "      <th>3</th>\n",
       "      <td>163</td>\n",
       "      <td>2295</td>\n",
       "    </tr>\n",
       "    <tr>\n",
       "      <th>4</th>\n",
       "      <td>163</td>\n",
       "      <td>1274</td>\n",
       "    </tr>\n",
       "    <tr>\n",
       "      <th>...</th>\n",
       "      <td>...</td>\n",
       "      <td>...</td>\n",
       "    </tr>\n",
       "    <tr>\n",
       "      <th>10551</th>\n",
       "      <td>1902</td>\n",
       "      <td>1885</td>\n",
       "    </tr>\n",
       "    <tr>\n",
       "      <th>10552</th>\n",
       "      <td>1902</td>\n",
       "      <td>1886</td>\n",
       "    </tr>\n",
       "    <tr>\n",
       "      <th>10553</th>\n",
       "      <td>2258</td>\n",
       "      <td>1887</td>\n",
       "    </tr>\n",
       "    <tr>\n",
       "      <th>10554</th>\n",
       "      <td>1887</td>\n",
       "      <td>1902</td>\n",
       "    </tr>\n",
       "    <tr>\n",
       "      <th>10555</th>\n",
       "      <td>1686</td>\n",
       "      <td>837</td>\n",
       "    </tr>\n",
       "  </tbody>\n",
       "</table>\n",
       "<p>10556 rows × 2 columns</p>\n",
       "</div>"
      ],
      "text/plain": [
       "       Target  Source\n",
       "0         163     402\n",
       "1         163     659\n",
       "2         163    1696\n",
       "3         163    2295\n",
       "4         163    1274\n",
       "...       ...     ...\n",
       "10551    1902    1885\n",
       "10552    1902    1886\n",
       "10553    2258    1887\n",
       "10554    1887    1902\n",
       "10555    1686     837\n",
       "\n",
       "[10556 rows x 2 columns]"
      ]
     },
     "execution_count": 11,
     "metadata": {},
     "output_type": "execute_result"
    }
   ],
   "source": [
    "edges2"
   ]
  },
  {
   "cell_type": "code",
   "execution_count": 12,
   "metadata": {},
   "outputs": [],
   "source": [
    "format_features = list(features2.values())"
   ]
  },
  {
   "cell_type": "code",
   "execution_count": 13,
   "metadata": {},
   "outputs": [
    {
     "data": {
      "text/plain": [
       "2708"
      ]
     },
     "execution_count": 13,
     "metadata": {},
     "output_type": "execute_result"
    }
   ],
   "source": [
    "len(format_features)"
   ]
  },
  {
   "cell_type": "code",
   "execution_count": 14,
   "metadata": {},
   "outputs": [],
   "source": [
    "all_pairs = edges2.groupby('Source').Target.apply(list)"
   ]
  },
  {
   "cell_type": "code",
   "execution_count": 15,
   "metadata": {},
   "outputs": [],
   "source": [
    "#Cоставление последовательностей, чтобы во время обучения соблюдалась размерность. Тут пока BFS используется только для этого\n",
    "def bfs(graph, start):\n",
    "    path = []\n",
    "    queue = [start]\n",
    "    while queue:\n",
    "        vertex = queue.pop(0)\n",
    "        if (vertex not in path):\n",
    "            path.append(vertex)\n",
    "            queue.extend(set(graph[vertex]) - set(path))\n",
    "#             if len(path)%1000==0:\n",
    "#                 print(len(path))\n",
    "    return path"
   ]
  },
  {
   "cell_type": "code",
   "execution_count": null,
   "metadata": {},
   "outputs": [],
   "source": []
  },
  {
   "cell_type": "code",
   "execution_count": 16,
   "metadata": {},
   "outputs": [],
   "source": [
    "import torch\n",
    "from torch_geometric.data import Data"
   ]
  },
  {
   "cell_type": "code",
   "execution_count": 17,
   "metadata": {},
   "outputs": [],
   "source": [
    "#Создание графа для нейронной сети\n",
    "from torch_geometric.utils import remove_isolated_nodes\n",
    "def create_graph(seq, el_num):\n",
    "    element = seq[el_num]\n",
    "    new_seq = seq[:el_num]\n",
    "    sorted_new_seq = np.sort(new_seq)\n",
    "    order = [np.where(new_seq==x)[0].item() for x in sorted_new_seq]\n",
    "    res = np.array(pd.Series(seq[:el_num]).isin(all_pairs[element]).astype(int))\n",
    "    res = res[order]\n",
    "    edge_index = torch.tensor(np.array(edges2[(edges2.Source.isin(new_seq)) & (edges2.Target.isin(new_seq))]))\n",
    "    q = remove_isolated_nodes(edge_index)\n",
    "    edge_index = torch.tensor(q[0])\n",
    "    temp = np.zeros(len(format_features))\n",
    "    temp[:len(q[2])] = q[2]\n",
    "    x = torch.tensor(format_features)[temp.astype(bool)].float()\n",
    "    data = Data(x=x, edge_index=edge_index.t().contiguous())\n",
    "    node_features = format_features[element]\n",
    "    return(data, res, node_features)"
   ]
  },
  {
   "cell_type": "code",
   "execution_count": 18,
   "metadata": {},
   "outputs": [],
   "source": [
    "#Создание батча графов для нейронной сети\n",
    "def create_batch(sequences, el_num):\n",
    "    graphs = []\n",
    "    results = []\n",
    "    features = []\n",
    "    for i in sequences:\n",
    "        info = create_graph(i, el_num)\n",
    "        graphs.append(info[0])\n",
    "        results.append(info[1])\n",
    "        features.append(info[2])\n",
    "    return(graphs, results, features)"
   ]
  },
  {
   "cell_type": "code",
   "execution_count": 19,
   "metadata": {},
   "outputs": [
    {
     "data": {
      "text/plain": [
       "1434"
      ]
     },
     "execution_count": 19,
     "metadata": {},
     "output_type": "execute_result"
    }
   ],
   "source": [
    "len(format_features[0])"
   ]
  },
  {
   "cell_type": "code",
   "execution_count": 20,
   "metadata": {},
   "outputs": [],
   "source": [
    "path0 = np.load('cora_0.npy')\n",
    "path1 = np.load('cora_1.npy')"
   ]
  },
  {
   "cell_type": "code",
   "execution_count": null,
   "metadata": {},
   "outputs": [],
   "source": []
  },
  {
   "cell_type": "code",
   "execution_count": null,
   "metadata": {},
   "outputs": [],
   "source": []
  },
  {
   "cell_type": "code",
   "execution_count": 21,
   "metadata": {},
   "outputs": [],
   "source": [
    "import torch.nn.functional as F\n",
    "from torch_geometric.nn import GCNConv\n",
    "import torch.nn as nn\n",
    "from torch_geometric.nn import avg_pool, global_add_pool\n",
    "import torch_geometric.nn as pyg_nn\n",
    "from torch_geometric.data import Data, DataLoader, NeighborSampler\n",
    "from torch.nn import BatchNorm1d, Linear"
   ]
  },
  {
   "cell_type": "code",
   "execution_count": null,
   "metadata": {},
   "outputs": [],
   "source": []
  },
  {
   "cell_type": "code",
   "execution_count": 22,
   "metadata": {},
   "outputs": [],
   "source": [
    "class Net(torch.nn.Module):\n",
    "    def __init__(self):\n",
    "        super(Net, self).__init__()\n",
    "        self.conv1 = GCNConv(1434, 1000)\n",
    "        self.conv2 = GCNConv(1000, 700)\n",
    "        self.conv3 = GCNConv(700, 250)\n",
    "        self.graph_to_h0 = nn.Linear(1434, 150)\n",
    "        self.graph_to_c0 = nn.Linear(1434, 150)\n",
    "        self.lstm = nn.LSTM(250, 150, batch_first = True) \n",
    "        self.logits = nn.Linear(150, 1)\n",
    "    def forward(self, data, features):\n",
    "        x, edge_index, batch = data.x, data.edge_index, data.batch\n",
    "        num_graphs = data.num_graphs\n",
    "        x = self.conv1(x, edge_index)\n",
    "        x = F.relu(x)\n",
    "        x = self.conv2(x, edge_index)\n",
    "        x = F.relu(x)\n",
    "        x = self.conv3(x, edge_index)\n",
    "        x = F.relu(x)\n",
    "        x = x.view((num_graphs,int(len(x)/num_graphs),250))\n",
    "        initial_cell = self.graph_to_c0(features)\n",
    "        initial_hid = self.graph_to_h0(features)\n",
    "        state = (initial_cell[None], initial_hid[None])\n",
    "        lstm_out, state = self.lstm(x, state)\n",
    "        logits = self.logits(lstm_out)\n",
    "        res = F.sigmoid(logits)\n",
    "        return res\n",
    "        \n"
   ]
  },
  {
   "cell_type": "code",
   "execution_count": 23,
   "metadata": {},
   "outputs": [],
   "source": [
    "model = Net()"
   ]
  },
  {
   "cell_type": "code",
   "execution_count": 24,
   "metadata": {},
   "outputs": [],
   "source": [
    "loader = DataLoader(create_batch([path0, path1], 10)[0], batch_size=2)"
   ]
  },
  {
   "cell_type": "code",
   "execution_count": null,
   "metadata": {},
   "outputs": [],
   "source": []
  },
  {
   "cell_type": "code",
   "execution_count": 25,
   "metadata": {},
   "outputs": [],
   "source": [
    "#бинарная кроссэнтропия\n",
    "def computeLoss(network, batch, el_num, batch_size):\n",
    "    info = create_batch(batch, el_num)\n",
    "    loader = DataLoader(info[0], batch_size=batch_size)\n",
    "    res = torch.tensor(info[1]).to(device)\n",
    "    node_features = torch.tensor(info[2]).float().to(device)\n",
    "    for i in loader:\n",
    "        q = i.to(device)\n",
    "        preds = network.forward(q, node_features.float()).squeeze(-1)\n",
    "    loss = F.binary_cross_entropy(preds, res.float())\n",
    "#     del node_features\n",
    "#     del res\n",
    "#     del loader\n",
    "#     del q\n",
    "    torch.cuda.empty_cache()\n",
    "    return(loss)\n"
   ]
  },
  {
   "cell_type": "code",
   "execution_count": 26,
   "metadata": {},
   "outputs": [],
   "source": [
    "#другая бинарная кроссэнтропия\n",
    "def computeLoss(network, batch, el_num, batch_size):\n",
    "    info = create_batch(batch, el_num)\n",
    "    loader = DataLoader(info[0], batch_size=batch_size)\n",
    "    res = torch.tensor(info[1]).to(device)\n",
    "    node_features = torch.tensor(info[2]).float().to(device)\n",
    "    for i in loader:\n",
    "        q = i.to(device)\n",
    "        preds = network.forward(q, node_features.float()).squeeze(-1)\n",
    "    loss = nn.BCELoss()\n",
    "    loss_val = loss(preds, res.float())\n",
    "#     del node_features\n",
    "#     del res\n",
    "#     del loader\n",
    "#     del q\n",
    "    torch.cuda.empty_cache()\n",
    "    return(loss_val)"
   ]
  },
  {
   "cell_type": "code",
   "execution_count": 49,
   "metadata": {},
   "outputs": [],
   "source": [
    "#Взвешанная бинарная кроссэнтропия, которая не работает ни с какими весами\n",
    "def computeLoss(network, batch, el_num, batch_size):\n",
    "    info = create_batch(batch, el_num)\n",
    "    loader = DataLoader(info[0], batch_size=batch_size)\n",
    "    res = torch.tensor(info[1]).to(device)\n",
    "    node_features = torch.tensor(info[2]).float().to(device)\n",
    "    for i in loader:\n",
    "        q = i.to(device)\n",
    "        preds = network.forward(q, node_features.float()).squeeze(-1)\n",
    "    pos_weight = torch.tensor([500])\n",
    "    loss = nn.BCEWithLogitsLoss(pos_weight=pos_weight)\n",
    "    loss_val = loss(preds, res.float())\n",
    "#     del node_features\n",
    "#     del res\n",
    "#     del loader\n",
    "#     del q\n",
    "    torch.cuda.empty_cache()\n",
    "    return(loss_val)"
   ]
  },
  {
   "cell_type": "code",
   "execution_count": 50,
   "metadata": {},
   "outputs": [],
   "source": [
    "# device = torch.device('cuda:0' if torch.cuda.is_available() else 'cpu')\n",
    "device = torch.device('cpu')\n",
    "# device = torch.device('cpu')\n",
    "model = Net()\n",
    "model = model.to(device)\n",
    "optimizer = torch.optim.Adam(model.parameters(), \n",
    "                       lr=1e-3)"
   ]
  },
  {
   "cell_type": "code",
   "execution_count": null,
   "metadata": {},
   "outputs": [],
   "source": []
  },
  {
   "cell_type": "code",
   "execution_count": 51,
   "metadata": {},
   "outputs": [],
   "source": [
    "#чтение нагенерированных bfs последовательностей для обучения.\n",
    "train = []\n",
    "test = []\n",
    "for i in range(250):\n",
    "    if len(np.load('cora_'+str(i)+'.npy')) == 2485 :\n",
    "        train.append(np.load('cora_'+str(i)+'.npy'))\n",
    "for i in range(250,500):\n",
    "    if len(np.load('cora_'+str(i)+'.npy')) == 2485:\n",
    "        test.append(np.load('cora_'+str(i)+'.npy'))\n",
    "train = torch.tensor(train)\n",
    "test = torch.tensor(test)"
   ]
  },
  {
   "cell_type": "code",
   "execution_count": 52,
   "metadata": {},
   "outputs": [],
   "source": [
    "from IPython.display import clear_output\n",
    "import matplotlib.pyplot as plt\n",
    "%matplotlib inline"
   ]
  },
  {
   "cell_type": "code",
   "execution_count": 39,
   "metadata": {},
   "outputs": [],
   "source": [
    "#функция, которая выводит предикт, и показывает, насколько он адекватный\n",
    "def get_pred(network, batch, el_num, batch_size):\n",
    "    info = create_batch(batch, el_num)\n",
    "    loader = DataLoader(info[0], batch_size=batch_size)\n",
    "    res = torch.tensor(info[1]).to(device)\n",
    "    node_features = torch.tensor(info[2]).float().to(device)\n",
    "    for i in loader:\n",
    "        q = i.to(device)\n",
    "        preds = network.forward(q, node_features.float()).squeeze(-1)\n",
    "    return(preds, res)"
   ]
  },
  {
   "cell_type": "code",
   "execution_count": 53,
   "metadata": {
    "scrolled": true
   },
   "outputs": [
    {
     "data": {
      "image/png": "[encoded data removed]",
      "text/plain": [
       "<Figure size 720x432 with 1 Axes>"
      ]
     },
     "metadata": {
      "needs_background": "light"
     },
     "output_type": "display_data"
    },
    {
     "name": "stdout",
     "output_type": "stream",
     "text": [
      "tensor([0.3921, 0.3806, 0.3780, 0.3773, 0.3760, 0.3758, 0.3752, 0.3739, 0.3728,\n",
      "        0.3725, 0.3718, 0.3717, 0.3704, 0.3700, 0.3699, 0.3696, 0.3687, 0.3682,\n",
      "        0.3678, 0.3677, 0.3675, 0.3675, 0.3675, 0.3674, 0.3673, 0.3673, 0.3672,\n",
      "        0.3658, 0.3658, 0.3657, 0.3655, 0.3652, 0.3652, 0.3647, 0.3647, 0.3646,\n",
      "        0.3646, 0.3644, 0.3644, 0.3644, 0.3644, 0.3644, 0.3646, 0.3642, 0.3642,\n",
      "        0.3642, 0.3642, 0.3642, 0.3643, 0.3640, 0.3640, 0.3642, 0.3638, 0.3641,\n",
      "        0.3635, 0.3635, 0.3635, 0.3637, 0.3635, 0.3634, 0.3634, 0.3634, 0.3634,\n",
      "        0.3634, 0.3634, 0.3634, 0.3634, 0.3635, 0.3634, 0.3632, 0.3638, 0.3626,\n",
      "        0.3627, 0.3626, 0.3626, 0.3625, 0.3625, 0.3625, 0.3625, 0.3625, 0.3625,\n",
      "        0.3625, 0.3625, 0.3630, 0.3622, 0.3622, 0.3622, 0.3622, 0.3625, 0.3619,\n",
      "        0.3619, 0.3621, 0.3618, 0.3618, 0.3617, 0.3618, 0.3617, 0.3618, 0.3617,\n",
      "        0.3621, 0.3613, 0.3614, 0.3613, 0.3612, 0.3612, 0.3613, 0.3614, 0.3611,\n",
      "        0.3611, 0.3611, 0.3611, 0.3611, 0.3611, 0.3611, 0.3612, 0.3611, 0.3611,\n",
      "        0.3615, 0.3607, 0.3607, 0.3607, 0.3607, 0.3607, 0.3608, 0.3609, 0.3605,\n",
      "        0.3605, 0.3605, 0.3605, 0.3605, 0.3605, 0.3605, 0.3605, 0.3605, 0.3606,\n",
      "        0.3605, 0.3604, 0.3604, 0.3604, 0.3604, 0.3604, 0.3604, 0.3604, 0.3604,\n",
      "        0.3604, 0.3605, 0.3612, 0.3596, 0.3599, 0.3594, 0.3594, 0.3594, 0.3594,\n",
      "        0.3594, 0.3593, 0.3593, 0.3597, 0.3594, 0.3590, 0.3589, 0.3589, 0.3592,\n",
      "        0.3588, 0.3588, 0.3588, 0.3588, 0.3592, 0.3587, 0.3588, 0.3583, 0.3584,\n",
      "        0.3586, 0.3580, 0.3580, 0.3580, 0.3580, 0.3580, 0.3580, 0.3580, 0.3580,\n",
      "        0.3580, 0.3581, 0.3580, 0.3581, 0.3579, 0.3582, 0.3579, 0.3578, 0.3577,\n",
      "        0.3578, 0.3577, 0.3578, 0.3577, 0.3577, 0.3577, 0.3577, 0.3577, 0.3577,\n",
      "        0.3577, 0.3577, 0.3577, 0.3577, 0.3577, 0.3577, 0.3577, 0.3577, 0.3578,\n",
      "        0.3577, 0.3578, 0.3576, 0.3577, 0.3576, 0.3576, 0.3579, 0.3575, 0.3575,\n",
      "        0.3580, 0.3574, 0.3572, 0.3570, 0.3570, 0.3570, 0.3571, 0.3570, 0.3570,\n",
      "        0.3570, 0.3570, 0.3569, 0.3569, 0.3569, 0.3570, 0.3569, 0.3569, 0.3572,\n",
      "        0.3568, 0.3570, 0.3568, 0.3567, 0.3567, 0.3567, 0.3568, 0.3568, 0.3567,\n",
      "        0.3567, 0.3567, 0.3567, 0.3567, 0.3567, 0.3567, 0.3567, 0.3567, 0.3568,\n",
      "        0.3569, 0.3568, 0.3563, 0.3565, 0.3564, 0.3565, 0.3566, 0.3560, 0.3563,\n",
      "        0.3558, 0.3558, 0.3558, 0.3558, 0.3558, 0.3558, 0.3558, 0.3558, 0.3558,\n",
      "        0.3559, 0.3558, 0.3558, 0.3558, 0.3558, 0.3558, 0.3558, 0.3558, 0.3558,\n",
      "        0.3558, 0.3558, 0.3558, 0.3558, 0.3557, 0.3557, 0.3557, 0.3557, 0.3557,\n",
      "        0.3561, 0.3557, 0.3555, 0.3555, 0.3555, 0.3555, 0.3556, 0.3554, 0.3554,\n",
      "        0.3554, 0.3556, 0.3552, 0.3552, 0.3552, 0.3555, 0.3551, 0.3551, 0.3551,\n",
      "        0.3551, 0.3551, 0.3551, 0.3551, 0.3551, 0.3551, 0.3551, 0.3551, 0.3551,\n",
      "        0.3551, 0.3551, 0.3553, 0.3551, 0.3551, 0.3551, 0.3551, 0.3551, 0.3551,\n",
      "        0.3551, 0.3551, 0.3550, 0.3550, 0.3550, 0.3552, 0.3550, 0.3550, 0.3550,\n",
      "        0.3550, 0.3553, 0.3549, 0.3549, 0.3550, 0.3548, 0.3550, 0.3547, 0.3547,\n",
      "        0.3547, 0.3547, 0.3547, 0.3548, 0.3547, 0.3547, 0.3550, 0.3546, 0.3547,\n",
      "        0.3550, 0.3544, 0.3544, 0.3546, 0.3544, 0.3544, 0.3544, 0.3544, 0.3544,\n",
      "        0.3551, 0.3541, 0.3541, 0.3544, 0.3539, 0.3539, 0.3539, 0.3539, 0.3539,\n",
      "        0.3539, 0.3539, 0.3539, 0.3539, 0.3539, 0.3539, 0.3539, 0.3539, 0.3539,\n",
      "        0.3524, 0.3524, 0.3525, 0.3524, 0.3524, 0.3523, 0.3523, 0.3523, 0.3524,\n",
      "        0.3523, 0.3523, 0.3523, 0.3523, 0.3523, 0.3523, 0.3523, 0.3524, 0.3523,\n",
      "        0.3523, 0.3523, 0.3523, 0.3524, 0.3523, 0.3523, 0.3523, 0.3523, 0.3523,\n",
      "        0.3523, 0.3523, 0.3523, 0.3523, 0.3525, 0.3522, 0.3522, 0.3522, 0.3522,\n",
      "        0.3522, 0.3522, 0.3522, 0.3522, 0.3522, 0.3522, 0.3522, 0.3522, 0.3522,\n",
      "        0.3522, 0.3522, 0.3522, 0.3522, 0.3521, 0.3521, 0.3521, 0.3522, 0.3523,\n",
      "        0.3521, 0.3521, 0.3521, 0.3521, 0.3521, 0.3522, 0.3521, 0.3521, 0.3521,\n",
      "        0.3521, 0.3521, 0.3521, 0.3521, 0.3521, 0.3521, 0.3520, 0.3520, 0.3520,\n",
      "        0.3521, 0.3522, 0.3463, 0.3487, 0.3485, 0.3485, 0.3485, 0.3485, 0.3459,\n",
      "        0.3475, 0.3466, 0.3466, 0.3466, 0.3466, 0.3466, 0.3466, 0.3466, 0.3466,\n",
      "        0.3466, 0.3466, 0.3466, 0.3466, 0.3466, 0.3466, 0.3470, 0.3465, 0.3466,\n",
      "        0.3469, 0.3447, 0.3409, 0.3430, 0.3429, 0.3429, 0.3429, 0.3429, 0.3429,\n",
      "        0.3429, 0.3429, 0.3429, 0.3429, 0.3430, 0.3425, 0.3420, 0.3420, 0.3421,\n",
      "        0.3420, 0.3421, 0.3420, 0.3420, 0.3420, 0.3422, 0.3423, 0.3420, 0.3420,\n",
      "        0.3420, 0.3420, 0.3420, 0.3420, 0.3420, 0.3420, 0.3420, 0.3420, 0.3421,\n",
      "        0.3420, 0.3420, 0.3420, 0.3420, 0.3420, 0.3428, 0.3419, 0.3419, 0.3419,\n",
      "        0.3419, 0.3419, 0.3428, 0.3413, 0.3413, 0.3413, 0.3413, 0.3413, 0.3413,\n",
      "        0.3413, 0.3413, 0.3413, 0.3413, 0.3424, 0.3416, 0.3411, 0.3413, 0.3411,\n",
      "        0.3411, 0.3411, 0.3411, 0.3411, 0.3411, 0.3411, 0.3411, 0.3411, 0.3411,\n",
      "        0.3411, 0.3411, 0.3411, 0.3411, 0.3411, 0.3411, 0.3410, 0.3410, 0.3411,\n",
      "        0.3411, 0.3410, 0.3410, 0.3410, 0.3410, 0.3410, 0.3410, 0.3410, 0.3410,\n",
      "        0.3411, 0.3410, 0.3410, 0.3411, 0.3410, 0.3411, 0.3410, 0.3423, 0.3420,\n",
      "        0.3404, 0.3404, 0.3404, 0.3404, 0.3409, 0.3398, 0.3399, 0.3398, 0.3398,\n",
      "        0.3398, 0.3398, 0.3399, 0.3398, 0.3398, 0.3398, 0.3398, 0.3398, 0.3398,\n",
      "        0.3399, 0.3398, 0.3398, 0.3399, 0.3398, 0.3398, 0.3398, 0.3398, 0.3403,\n",
      "        0.3398, 0.3398, 0.3398, 0.3409, 0.3397, 0.3397, 0.3397, 0.3397, 0.3397,\n",
      "        0.3397, 0.3397, 0.3398, 0.3397, 0.3397, 0.3397, 0.3397, 0.3397, 0.3367,\n",
      "        0.3389, 0.3389, 0.3389, 0.3370, 0.3382, 0.3382, 0.3382, 0.3382, 0.3382,\n",
      "        0.3382, 0.3382, 0.3382, 0.3382, 0.3383, 0.3382, 0.3388, 0.3382, 0.3382,\n",
      "        0.3382, 0.3382, 0.3383, 0.3378, 0.3378, 0.3378, 0.3378, 0.3378, 0.3378,\n",
      "        0.3383, 0.3377, 0.3377, 0.3377, 0.3377, 0.3377, 0.3377, 0.3377, 0.3377,\n",
      "        0.3377, 0.3378, 0.3377, 0.3377, 0.3377, 0.3377, 0.3377, 0.3378, 0.3378,\n",
      "        0.3378, 0.3378, 0.3378, 0.3377, 0.3377, 0.3378, 0.3377, 0.3377, 0.3377,\n",
      "        0.3377, 0.3379, 0.3377, 0.3377, 0.3377, 0.3377, 0.3377, 0.3377, 0.3377,\n",
      "        0.3377, 0.3377, 0.3377, 0.3378, 0.3377, 0.3377, 0.3377, 0.3377, 0.3377,\n",
      "        0.3377, 0.3377, 0.3377, 0.3377, 0.3377, 0.3377, 0.3377, 0.3377, 0.3377,\n",
      "        0.3377, 0.3377, 0.3377, 0.3378, 0.3377, 0.3378, 0.3377, 0.3377, 0.3387,\n",
      "        0.3377, 0.3377, 0.3378, 0.3377, 0.3377, 0.3377, 0.3377, 0.3377, 0.3386,\n",
      "        0.3376, 0.3376, 0.3376, 0.3376, 0.3376, 0.3391, 0.3374, 0.3374, 0.3374,\n",
      "        0.3389, 0.3372, 0.3372, 0.3372, 0.3372, 0.3372, 0.3383, 0.3369, 0.3369,\n",
      "        0.3369, 0.3369, 0.3369, 0.3369, 0.3369, 0.3372, 0.3369, 0.3369, 0.3369,\n",
      "        0.3369, 0.3370, 0.3369, 0.3369, 0.3369, 0.3369, 0.3369, 0.3369, 0.3370,\n",
      "        0.3370, 0.3369, 0.3369, 0.3369, 0.3369, 0.3369, 0.3370, 0.3369, 0.3369,\n",
      "        0.3369, 0.3370, 0.3373, 0.3369, 0.3369, 0.3369, 0.3369, 0.3376, 0.3369,\n",
      "        0.3369, 0.3369, 0.3369, 0.3369, 0.3369, 0.3369, 0.3369, 0.3369, 0.3371,\n",
      "        0.3369, 0.3371, 0.3369, 0.3369, 0.3369, 0.3369, 0.3369, 0.3381, 0.3368,\n",
      "        0.3369, 0.3368, 0.3369, 0.3368, 0.3368, 0.3368, 0.3368, 0.3368, 0.3368,\n",
      "        0.3368, 0.3369, 0.3368, 0.3368, 0.3368, 0.3369, 0.3368, 0.3368, 0.3368,\n",
      "        0.3382, 0.3367, 0.3367, 0.3368, 0.3368, 0.3367, 0.3368, 0.3367, 0.3377,\n",
      "        0.3367, 0.3365, 0.3364, 0.3365, 0.3364, 0.3364, 0.3364, 0.3364, 0.3365,\n",
      "        0.3369, 0.3371, 0.3364, 0.3364, 0.3366, 0.3364, 0.3364, 0.3364, 0.3364,\n",
      "        0.3364, 0.3368, 0.3364, 0.3364, 0.3364, 0.3364, 0.3365, 0.3364, 0.3364,\n",
      "        0.3364, 0.3364, 0.3364, 0.3364, 0.3365, 0.3364, 0.3364, 0.3364, 0.3364,\n",
      "        0.3364, 0.3364, 0.3364, 0.3365, 0.3366, 0.3366, 0.3365, 0.3364, 0.3364,\n",
      "        0.3364, 0.3379, 0.3363, 0.3363, 0.3363, 0.3363, 0.3363, 0.3374, 0.3362,\n",
      "        0.3366, 0.3363, 0.3362, 0.3362, 0.3364, 0.3362, 0.3362, 0.3362, 0.3362,\n",
      "        0.3362, 0.3362, 0.3362, 0.3362, 0.3362, 0.3362, 0.3362, 0.3368, 0.3362,\n",
      "        0.3362, 0.3362, 0.3362, 0.3362, 0.3362, 0.3362, 0.3362, 0.3369, 0.3362,\n",
      "        0.3362, 0.3363, 0.3362, 0.3362, 0.3362, 0.3362, 0.3362, 0.3362, 0.3362,\n",
      "        0.3362, 0.3362, 0.3362, 0.3362, 0.3362, 0.3362, 0.3362, 0.3362, 0.3362,\n",
      "        0.3362, 0.3362, 0.3362, 0.3362, 0.3362, 0.3362, 0.3362, 0.3362, 0.3362,\n",
      "        0.3362, 0.3366, 0.3362, 0.3363, 0.3361, 0.3361, 0.3362, 0.3365, 0.3361,\n",
      "        0.3361, 0.3362, 0.3361, 0.3367, 0.3362, 0.3362, 0.3362, 0.3361, 0.3361,\n",
      "        0.3361, 0.3361, 0.3361, 0.3362, 0.3361, 0.3361, 0.3361, 0.3362, 0.3363,\n",
      "        0.3373, 0.3363, 0.3361, 0.3361, 0.3368, 0.3361, 0.3361, 0.3361, 0.3361,\n",
      "        0.3361, 0.3361, 0.3361, 0.3362, 0.3362, 0.3361, 0.3361, 0.3362, 0.3362,\n",
      "        0.3361, 0.3361, 0.3361, 0.3361, 0.3361, 0.3361, 0.3361, 0.3361, 0.3361,\n",
      "        0.3361, 0.3370, 0.3360, 0.3361, 0.3360, 0.3360, 0.3360, 0.3360, 0.3360,\n",
      "        0.3360, 0.3360, 0.3360, 0.3360, 0.3360, 0.3361, 0.3361, 0.3360, 0.3360,\n",
      "        0.3360], grad_fn=<SelectBackward>)\n"
     ]
    }
   ],
   "source": [
    "#обучение, где в каждой эпохе проходится  n_batches_per_epoch батчей в эпоху, и тестится на n_validation_batches в эпоху на данных, которую четь не видела\n",
    "#train loss должен быть выше val_loss по началу, но если нейронка правильно учится, постепенно val_loss должен стать выше train_loss\n",
    "num_epoch = 100\n",
    "n_batches_per_epoch = 2\n",
    "batch_size = 10\n",
    "n_validation_batches = 10\n",
    "train_losses = []\n",
    "val_losses = []\n",
    "for epoch in range(num_epoch):\n",
    "    train_loss= 0\n",
    "    val_loss = 0\n",
    "    model.train(True)\n",
    "    order = np.random.permutation(len(train))\n",
    "    order2 = np.random.permutation(len(test))\n",
    "    indexes = np.random.randint(3, 2485, n_batches_per_epoch)\n",
    "    for _ in (indexes):\n",
    "        optimizer.zero_grad()\n",
    "        batch_indexes = order[0:0+batch_size]\n",
    "        x_batch = train[batch_indexes]\n",
    "        x_batch = list(np.array(x_batch))\n",
    "        loss_value = computeLoss(model, x_batch, _, batch_size)\n",
    "        loss_value.backward()\n",
    "        optimizer.step()\n",
    "        train_loss += loss_value.item()\n",
    "    train_loss /= (n_batches_per_epoch)\n",
    "    train_losses.append(train_loss)\n",
    "    model.train(False)\n",
    "    for _ in (indexes):\n",
    "        batch_indexes = order2[0:0+batch_size]\n",
    "        x_batch = test[batch_indexes]\n",
    "        x_batch = list(np.array(x_batch))\n",
    "        loss_value = computeLoss(model, x_batch, _, batch_size)\n",
    "        val_loss += loss_value.item()\n",
    "    val_loss /= (n_validation_batches)\n",
    "    val_losses.append(val_loss)\n",
    "    clear_output()\n",
    "    plt.figure(figsize = (10, 6))\n",
    "    plt.plot(train_losses, label = 'Train loss', color = 'blue')\n",
    "    plt.plot(val_losses, label = 'Val loss', color = 'orange')\n",
    "    plt.legend()\n",
    "    plt.ylabel('Loss')\n",
    "    plt.show()\n",
    "    print(get_pred(model, [path1], 1000, 1)[0][0])"
   ]
  },
  {
   "cell_type": "code",
   "execution_count": null,
   "metadata": {},
   "outputs": [],
   "source": []
  },
  {
   "cell_type": "code",
   "execution_count": null,
   "metadata": {},
   "outputs": [],
   "source": [
    "path0"
   ]
  },
  {
   "cell_type": "code",
   "execution_count": null,
   "metadata": {},
   "outputs": [],
   "source": [
    "create_batch([path0], 100)"
   ]
  },
  {
   "cell_type": "code",
   "execution_count": null,
   "metadata": {},
   "outputs": [],
   "source": []
  },
  {
   "cell_type": "code",
   "execution_count": null,
   "metadata": {},
   "outputs": [],
   "source": []
  },
  {
   "cell_type": "code",
   "execution_count": null,
   "metadata": {},
   "outputs": [],
   "source": []
  },
  {
   "cell_type": "code",
   "execution_count": null,
   "metadata": {},
   "outputs": [],
   "source": []
  },
  {
   "cell_type": "code",
   "execution_count": null,
   "metadata": {},
   "outputs": [],
   "source": []
  },
  {
   "cell_type": "code",
   "execution_count": null,
   "metadata": {},
   "outputs": [],
   "source": []
  }
 ],
 "metadata": {
  "kernelspec": {
   "display_name": "Python 3",
   "language": "python",
   "name": "python3"
  },
  "language_info": {
   "codemirror_mode": {
    "name": "ipython",
    "version": 3
   },
   "file_extension": ".py",
   "mimetype": "text/x-python",
   "name": "python",
   "nbconvert_exporter": "python",
   "pygments_lexer": "ipython3",
   "version": "3.8.3"
  }
 },
 "nbformat": 4,
 "nbformat_minor": 4
}
