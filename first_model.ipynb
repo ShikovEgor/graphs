{
 "cells": [
  {
   "cell_type": "code",
   "execution_count": 1,
   "metadata": {},
   "outputs": [],
   "source": [
    "import pandas as pd\n",
    "import numpy as np"
   ]
  },
  {
   "cell_type": "code",
   "execution_count": 2,
   "metadata": {},
   "outputs": [],
   "source": [
    "import json\n",
    "with open('users_with_age_and_gender.json', 'r')  as f:\n",
    "    features = json.load(f)"
   ]
  },
  {
   "cell_type": "code",
   "execution_count": 3,
   "metadata": {},
   "outputs": [
    {
     "data": {
      "text/plain": [
       "153178"
      ]
     },
     "execution_count": 3,
     "metadata": {},
     "output_type": "execute_result"
    }
   ],
   "source": [
    "len(features.keys())"
   ]
  },
  {
   "cell_type": "code",
   "execution_count": 4,
   "metadata": {},
   "outputs": [],
   "source": [
    "edges = pd.read_csv('edges.csv')"
   ]
  },
  {
   "cell_type": "code",
   "execution_count": 5,
   "metadata": {},
   "outputs": [
    {
     "data": {
      "text/html": [
       "<div>\n",
       "<style scoped>\n",
       "    .dataframe tbody tr th:only-of-type {\n",
       "        vertical-align: middle;\n",
       "    }\n",
       "\n",
       "    .dataframe tbody tr th {\n",
       "        vertical-align: top;\n",
       "    }\n",
       "\n",
       "    .dataframe thead th {\n",
       "        text-align: right;\n",
       "    }\n",
       "</style>\n",
       "<table border=\"1\" class=\"dataframe\">\n",
       "  <thead>\n",
       "    <tr style=\"text-align: right;\">\n",
       "      <th></th>\n",
       "      <th>Source</th>\n",
       "      <th>Target</th>\n",
       "    </tr>\n",
       "  </thead>\n",
       "  <tbody>\n",
       "    <tr>\n",
       "      <th>0</th>\n",
       "      <td>365</td>\n",
       "      <td>989472</td>\n",
       "    </tr>\n",
       "    <tr>\n",
       "      <th>1</th>\n",
       "      <td>365</td>\n",
       "      <td>2425825</td>\n",
       "    </tr>\n",
       "    <tr>\n",
       "      <th>2</th>\n",
       "      <td>365</td>\n",
       "      <td>76866</td>\n",
       "    </tr>\n",
       "    <tr>\n",
       "      <th>3</th>\n",
       "      <td>365</td>\n",
       "      <td>259</td>\n",
       "    </tr>\n",
       "    <tr>\n",
       "      <th>4</th>\n",
       "      <td>365</td>\n",
       "      <td>14092932</td>\n",
       "    </tr>\n",
       "    <tr>\n",
       "      <th>...</th>\n",
       "      <td>...</td>\n",
       "      <td>...</td>\n",
       "    </tr>\n",
       "    <tr>\n",
       "      <th>1387543</th>\n",
       "      <td>289489256</td>\n",
       "      <td>4214123</td>\n",
       "    </tr>\n",
       "    <tr>\n",
       "      <th>1387544</th>\n",
       "      <td>50563461</td>\n",
       "      <td>3526026</td>\n",
       "    </tr>\n",
       "    <tr>\n",
       "      <th>1387545</th>\n",
       "      <td>483877</td>\n",
       "      <td>101579784</td>\n",
       "    </tr>\n",
       "    <tr>\n",
       "      <th>1387546</th>\n",
       "      <td>8947289</td>\n",
       "      <td>9240403</td>\n",
       "    </tr>\n",
       "    <tr>\n",
       "      <th>1387547</th>\n",
       "      <td>8947289</td>\n",
       "      <td>2735420</td>\n",
       "    </tr>\n",
       "  </tbody>\n",
       "</table>\n",
       "<p>1387548 rows × 2 columns</p>\n",
       "</div>"
      ],
      "text/plain": [
       "            Source     Target\n",
       "0              365     989472\n",
       "1              365    2425825\n",
       "2              365      76866\n",
       "3              365        259\n",
       "4              365   14092932\n",
       "...            ...        ...\n",
       "1387543  289489256    4214123\n",
       "1387544   50563461    3526026\n",
       "1387545     483877  101579784\n",
       "1387546    8947289    9240403\n",
       "1387547    8947289    2735420\n",
       "\n",
       "[1387548 rows x 2 columns]"
      ]
     },
     "execution_count": 5,
     "metadata": {},
     "output_type": "execute_result"
    }
   ],
   "source": [
    "edges"
   ]
  },
  {
   "cell_type": "code",
   "execution_count": 6,
   "metadata": {},
   "outputs": [],
   "source": [
    "edges2 = edges[(edges.Source.isin(np.array(list(features.keys())).astype(int)))&(edges.Target.isin(np.array(list(features.keys())).astype(int)))]"
   ]
  },
  {
   "cell_type": "code",
   "execution_count": 7,
   "metadata": {},
   "outputs": [
    {
     "data": {
      "text/html": [
       "<div>\n",
       "<style scoped>\n",
       "    .dataframe tbody tr th:only-of-type {\n",
       "        vertical-align: middle;\n",
       "    }\n",
       "\n",
       "    .dataframe tbody tr th {\n",
       "        vertical-align: top;\n",
       "    }\n",
       "\n",
       "    .dataframe thead th {\n",
       "        text-align: right;\n",
       "    }\n",
       "</style>\n",
       "<table border=\"1\" class=\"dataframe\">\n",
       "  <thead>\n",
       "    <tr style=\"text-align: right;\">\n",
       "      <th></th>\n",
       "      <th>Source</th>\n",
       "      <th>Target</th>\n",
       "    </tr>\n",
       "  </thead>\n",
       "  <tbody>\n",
       "    <tr>\n",
       "      <th>0</th>\n",
       "      <td>365</td>\n",
       "      <td>989472</td>\n",
       "    </tr>\n",
       "    <tr>\n",
       "      <th>1</th>\n",
       "      <td>365</td>\n",
       "      <td>2425825</td>\n",
       "    </tr>\n",
       "    <tr>\n",
       "      <th>2</th>\n",
       "      <td>365</td>\n",
       "      <td>76866</td>\n",
       "    </tr>\n",
       "    <tr>\n",
       "      <th>3</th>\n",
       "      <td>365</td>\n",
       "      <td>259</td>\n",
       "    </tr>\n",
       "    <tr>\n",
       "      <th>4</th>\n",
       "      <td>365</td>\n",
       "      <td>14092932</td>\n",
       "    </tr>\n",
       "    <tr>\n",
       "      <th>...</th>\n",
       "      <td>...</td>\n",
       "      <td>...</td>\n",
       "    </tr>\n",
       "    <tr>\n",
       "      <th>1387543</th>\n",
       "      <td>289489256</td>\n",
       "      <td>4214123</td>\n",
       "    </tr>\n",
       "    <tr>\n",
       "      <th>1387544</th>\n",
       "      <td>50563461</td>\n",
       "      <td>3526026</td>\n",
       "    </tr>\n",
       "    <tr>\n",
       "      <th>1387545</th>\n",
       "      <td>483877</td>\n",
       "      <td>101579784</td>\n",
       "    </tr>\n",
       "    <tr>\n",
       "      <th>1387546</th>\n",
       "      <td>8947289</td>\n",
       "      <td>9240403</td>\n",
       "    </tr>\n",
       "    <tr>\n",
       "      <th>1387547</th>\n",
       "      <td>8947289</td>\n",
       "      <td>2735420</td>\n",
       "    </tr>\n",
       "  </tbody>\n",
       "</table>\n",
       "<p>1150146 rows × 2 columns</p>\n",
       "</div>"
      ],
      "text/plain": [
       "            Source     Target\n",
       "0              365     989472\n",
       "1              365    2425825\n",
       "2              365      76866\n",
       "3              365        259\n",
       "4              365   14092932\n",
       "...            ...        ...\n",
       "1387543  289489256    4214123\n",
       "1387544   50563461    3526026\n",
       "1387545     483877  101579784\n",
       "1387546    8947289    9240403\n",
       "1387547    8947289    2735420\n",
       "\n",
       "[1150146 rows x 2 columns]"
      ]
     },
     "execution_count": 7,
     "metadata": {},
     "output_type": "execute_result"
    }
   ],
   "source": [
    "edges2"
   ]
  },
  {
   "cell_type": "code",
   "execution_count": 8,
   "metadata": {},
   "outputs": [],
   "source": [
    "old_indexes = np.array(list(features.keys())).astype(int)\n",
    "new_indexes = range(len(old_indexes))\n",
    "voc1 = dict(zip(old_indexes, new_indexes))\n",
    "voc2 = dict(zip(new_indexes, old_indexes))"
   ]
  },
  {
   "cell_type": "code",
   "execution_count": 9,
   "metadata": {},
   "outputs": [
    {
     "name": "stderr",
     "output_type": "stream",
     "text": [
      "d:\\mlp\\venv\\lib\\site-packages\\pandas\\core\\generic.py:5303: SettingWithCopyWarning: \n",
      "A value is trying to be set on a copy of a slice from a DataFrame.\n",
      "Try using .loc[row_indexer,col_indexer] = value instead\n",
      "\n",
      "See the caveats in the documentation: https://pandas.pydata.org/pandas-docs/stable/user_guide/indexing.html#returning-a-view-versus-a-copy\n",
      "  self[name] = value\n"
     ]
    }
   ],
   "source": [
    "edges2.Source = edges2.Source.apply(lambda x: voc1[x])\n",
    "edges2.Target = edges2.Target.apply(lambda x: voc1[x])"
   ]
  },
  {
   "cell_type": "code",
   "execution_count": 10,
   "metadata": {},
   "outputs": [
    {
     "data": {
      "text/html": [
       "<div>\n",
       "<style scoped>\n",
       "    .dataframe tbody tr th:only-of-type {\n",
       "        vertical-align: middle;\n",
       "    }\n",
       "\n",
       "    .dataframe tbody tr th {\n",
       "        vertical-align: top;\n",
       "    }\n",
       "\n",
       "    .dataframe thead th {\n",
       "        text-align: right;\n",
       "    }\n",
       "</style>\n",
       "<table border=\"1\" class=\"dataframe\">\n",
       "  <thead>\n",
       "    <tr style=\"text-align: right;\">\n",
       "      <th></th>\n",
       "      <th>Source</th>\n",
       "      <th>Target</th>\n",
       "    </tr>\n",
       "  </thead>\n",
       "  <tbody>\n",
       "    <tr>\n",
       "      <th>0</th>\n",
       "      <td>146316</td>\n",
       "      <td>63767</td>\n",
       "    </tr>\n",
       "    <tr>\n",
       "      <th>1</th>\n",
       "      <td>146316</td>\n",
       "      <td>36687</td>\n",
       "    </tr>\n",
       "    <tr>\n",
       "      <th>2</th>\n",
       "      <td>146316</td>\n",
       "      <td>80200</td>\n",
       "    </tr>\n",
       "    <tr>\n",
       "      <th>3</th>\n",
       "      <td>146316</td>\n",
       "      <td>5</td>\n",
       "    </tr>\n",
       "    <tr>\n",
       "      <th>4</th>\n",
       "      <td>146316</td>\n",
       "      <td>139240</td>\n",
       "    </tr>\n",
       "    <tr>\n",
       "      <th>...</th>\n",
       "      <td>...</td>\n",
       "      <td>...</td>\n",
       "    </tr>\n",
       "    <tr>\n",
       "      <th>1387543</th>\n",
       "      <td>49116</td>\n",
       "      <td>68107</td>\n",
       "    </tr>\n",
       "    <tr>\n",
       "      <th>1387544</th>\n",
       "      <td>45172</td>\n",
       "      <td>148700</td>\n",
       "    </tr>\n",
       "    <tr>\n",
       "      <th>1387545</th>\n",
       "      <td>2056</td>\n",
       "      <td>105510</td>\n",
       "    </tr>\n",
       "    <tr>\n",
       "      <th>1387546</th>\n",
       "      <td>42589</td>\n",
       "      <td>12528</td>\n",
       "    </tr>\n",
       "    <tr>\n",
       "      <th>1387547</th>\n",
       "      <td>42589</td>\n",
       "      <td>97530</td>\n",
       "    </tr>\n",
       "  </tbody>\n",
       "</table>\n",
       "<p>1150146 rows × 2 columns</p>\n",
       "</div>"
      ],
      "text/plain": [
       "         Source  Target\n",
       "0        146316   63767\n",
       "1        146316   36687\n",
       "2        146316   80200\n",
       "3        146316       5\n",
       "4        146316  139240\n",
       "...         ...     ...\n",
       "1387543   49116   68107\n",
       "1387544   45172  148700\n",
       "1387545    2056  105510\n",
       "1387546   42589   12528\n",
       "1387547   42589   97530\n",
       "\n",
       "[1150146 rows x 2 columns]"
      ]
     },
     "execution_count": 10,
     "metadata": {},
     "output_type": "execute_result"
    }
   ],
   "source": [
    "edges2"
   ]
  },
  {
   "cell_type": "code",
   "execution_count": 11,
   "metadata": {},
   "outputs": [],
   "source": [
    "features2 = dict(zip(new_indexes, features.values()))"
   ]
  },
  {
   "cell_type": "code",
   "execution_count": 12,
   "metadata": {},
   "outputs": [],
   "source": [
    "format_features = []\n",
    "for i in list(features2.keys()):\n",
    "    arr = features2[i][0].copy()\n",
    "    arr.append(features2[i][1])\n",
    "    arr.append(features2[i][2])\n",
    "    format_features.append(arr)"
   ]
  },
  {
   "cell_type": "code",
   "execution_count": 13,
   "metadata": {},
   "outputs": [
    {
     "data": {
      "text/plain": [
       "153178"
      ]
     },
     "execution_count": 13,
     "metadata": {},
     "output_type": "execute_result"
    }
   ],
   "source": [
    "len(format_features)"
   ]
  },
  {
   "cell_type": "code",
   "execution_count": 14,
   "metadata": {},
   "outputs": [],
   "source": [
    "all_pairs = edges2.groupby('Source').Target.apply(list)"
   ]
  },
  {
   "cell_type": "code",
   "execution_count": 15,
   "metadata": {},
   "outputs": [],
   "source": [
    "def bfs(graph, start):\n",
    "    path = []\n",
    "    queue = [start]\n",
    "    while queue:\n",
    "        vertex = queue.pop(0)\n",
    "        if (vertex not in path):\n",
    "            path.append(vertex)\n",
    "            queue.extend(set(graph[vertex]) - set(path))\n",
    "#             if len(path)%1000==0:\n",
    "#                 print(len(path))\n",
    "    return path"
   ]
  },
  {
   "cell_type": "code",
   "execution_count": 16,
   "metadata": {},
   "outputs": [],
   "source": [
    "path0 = np.load('path_0.npy')\n",
    "path1 = np.load('path_1.npy')"
   ]
  },
  {
   "cell_type": "code",
   "execution_count": 17,
   "metadata": {},
   "outputs": [],
   "source": [
    "import torch\n",
    "from torch_geometric.data import Data"
   ]
  },
  {
   "cell_type": "code",
   "execution_count": 18,
   "metadata": {},
   "outputs": [],
   "source": [
    "# def create_graph(seq, el_num):\n",
    "#     element = seq[el_num]\n",
    "#     new_seq = seq[:el_num]\n",
    "#     edge_index = torch.tensor(np.array(edges2[(edges2.Source.isin(new_seq)) & (edges2.Target.isin(new_seq))]))\n",
    "#     res = np.append(np.array([-1]),np.array(pd.Series(seq[:el_num]).isin(all_pairs[element]).astype(int)))\n",
    "#     x = torch.tensor(format_features)\n",
    "#     node_feature = format_features[element]\n",
    "#     data = Data(x=x, edge_index=edge_index.t().contiguous())\n",
    "#     nodes_in_graph = [format_features[x] for x in new_seq]\n",
    "#     return(data, res, node_feature, nodes_in_graph)"
   ]
  },
  {
   "cell_type": "code",
   "execution_count": 19,
   "metadata": {},
   "outputs": [],
   "source": [
    "from torch_geometric.utils import remove_isolated_nodes\n",
    "def create_graph(seq, el_num):\n",
    "    element = seq[el_num]\n",
    "    new_seq = seq[:el_num]\n",
    "    edge_index = torch.tensor(np.array(edges2[(edges2.Source.isin(new_seq)) & (edges2.Target.isin(new_seq))]))\n",
    "    res = np.append(np.array([-1]),np.array(pd.Series(seq[:el_num]).isin(all_pairs[element]).astype(int)))\n",
    "    q = remove_isolated_nodes(edge_index)\n",
    "    edge_index = torch.tensor(q[0])\n",
    "    temp = np.zeros(len(format_features))\n",
    "    temp[:len(q[2])] = q[2]\n",
    "    x = torch.tensor(format_features)[temp.astype(bool)]\n",
    "    node_feature = format_features[element]\n",
    "    data = Data(x=x, edge_index=edge_index.t().contiguous())\n",
    "    nodes_in_graph = [format_features[x] for x in new_seq]\n",
    "    \n",
    "    return(data, res, node_feature, nodes_in_graph)"
   ]
  },
  {
   "cell_type": "code",
   "execution_count": 20,
   "metadata": {},
   "outputs": [],
   "source": [
    "def create_batch(sequences, el_num):\n",
    "    graphs = []\n",
    "    adj = []\n",
    "    features = []\n",
    "    nodes_in_graph = []\n",
    "    for i in sequences:\n",
    "        info = create_graph(i, el_num)\n",
    "        graphs.append(info[0])\n",
    "        adj.append(info[1])\n",
    "        features.append(info[2])\n",
    "        nodes_in_graph.append(info[3])\n",
    "    return(graphs, adj, features, torch.tensor(nodes_in_graph).to(device))"
   ]
  },
  {
   "cell_type": "code",
   "execution_count": null,
   "metadata": {},
   "outputs": [],
   "source": []
  },
  {
   "cell_type": "code",
   "execution_count": null,
   "metadata": {},
   "outputs": [],
   "source": []
  },
  {
   "cell_type": "code",
   "execution_count": 24,
   "metadata": {},
   "outputs": [],
   "source": [
    "from torch_geometric.utils import remove_isolated_nodes\n",
    "def create_graph(seq, el_num):\n",
    "    element = seq[el_num]\n",
    "    new_seq = seq[:el_num]\n",
    "    sorted_new_seq = np.sort(new_seq)\n",
    "    order = [np.where(new_seq==x)[0].item() for x in sorted_new_seq]\n",
    "    res = np.array(pd.Series(seq[:el_num]).isin(all_pairs[element]).astype(int))\n",
    "    edge_index = torch.tensor(np.array(edges2[(edges2.Source.isin(new_seq)) & (edges2.Target.isin(new_seq))]))\n",
    "    q = remove_isolated_nodes(edge_index)\n",
    "    edge_index = torch.tensor(q[0])\n",
    "    temp = np.zeros(len(format_features))\n",
    "    temp[:len(q[2])] = q[2]\n",
    "    x = torch.tensor(format_features)[temp.astype(bool)]\n",
    "    data = Data(x=x, edge_index=edge_index.t().contiguous())\n",
    "    return(data, res, order)"
   ]
  },
  {
   "cell_type": "code",
   "execution_count": 31,
   "metadata": {},
   "outputs": [],
   "source": [
    "def create_batch(sequences, el_num):\n",
    "    graphs = []\n",
    "    results = []\n",
    "    orders = []\n",
    "    for i in sequences:\n",
    "        info = create_graph(i, el_num)\n",
    "        graphs.append(info[0])\n",
    "        results.append(info[1])\n",
    "        orders.append(info[2])\n",
    "    return(graphs, results, orders)"
   ]
  },
  {
   "cell_type": "code",
   "execution_count": 32,
   "metadata": {},
   "outputs": [
    {
     "data": {
      "text/plain": [
       "([Data(edge_index=[2, 18], x=[10, 112]),\n",
       "  Data(edge_index=[2, 24], x=[10, 112])],\n",
       " [array([0, 1, 0, 0, 0, 0, 0, 0, 0, 0]),\n",
       "  array([1, 0, 0, 0, 0, 0, 0, 0, 0, 0])],\n",
       " [[0, 8, 6, 7, 3, 4, 5, 2, 1, 9], [0, 2, 1, 9, 4, 3, 5, 7, 6, 8]])"
      ]
     },
     "execution_count": 32,
     "metadata": {},
     "output_type": "execute_result"
    }
   ],
   "source": [
    "create_batch([path0, path1], 10)"
   ]
  },
  {
   "cell_type": "code",
   "execution_count": null,
   "metadata": {},
   "outputs": [],
   "source": []
  },
  {
   "cell_type": "code",
   "execution_count": null,
   "metadata": {},
   "outputs": [],
   "source": []
  },
  {
   "cell_type": "code",
   "execution_count": null,
   "metadata": {},
   "outputs": [],
   "source": []
  },
  {
   "cell_type": "code",
   "execution_count": null,
   "metadata": {},
   "outputs": [],
   "source": []
  },
  {
   "cell_type": "code",
   "execution_count": null,
   "metadata": {},
   "outputs": [],
   "source": []
  },
  {
   "cell_type": "code",
   "execution_count": null,
   "metadata": {},
   "outputs": [],
   "source": []
  },
  {
   "cell_type": "code",
   "execution_count": null,
   "metadata": {},
   "outputs": [],
   "source": []
  },
  {
   "cell_type": "code",
   "execution_count": null,
   "metadata": {},
   "outputs": [],
   "source": []
  },
  {
   "cell_type": "code",
   "execution_count": 21,
   "metadata": {},
   "outputs": [],
   "source": [
    "import torch.nn.functional as F\n",
    "from torch_geometric.nn import GCNConv\n",
    "import torch.nn as nn\n",
    "from torch_geometric.nn import avg_pool, global_add_pool\n",
    "import torch_geometric.nn as pyg_nn\n",
    "from torch_geometric.data import Data, DataLoader, NeighborSampler\n",
    "from torch.nn import BatchNorm1d, Linear"
   ]
  },
  {
   "cell_type": "code",
   "execution_count": null,
   "metadata": {},
   "outputs": [],
   "source": []
  },
  {
   "cell_type": "code",
   "execution_count": null,
   "metadata": {},
   "outputs": [],
   "source": []
  },
  {
   "cell_type": "code",
   "execution_count": 25,
   "metadata": {},
   "outputs": [],
   "source": [
    "class Net2(torch.nn.Module):\n",
    "    def __init__(self):\n",
    "        super(Net2, self).__init__()\n",
    "        self.conv1 = GCNConv(112, 250)\n",
    "        self.conv2 = GCNConv(250, 250)\n",
    "        self.graph_to_h0 = nn.Linear(362, 100)\n",
    "        self.graph_to_c0 = nn.Linear(362, 100)\n",
    "        self.lstm = nn.LSTM(112, 100, batch_first = True) \n",
    "        self.logits = nn.Linear(100, 2)\n",
    "    def forward(self, data, node_features, adj):\n",
    "        x, edge_index, batch = data.x, data.edge_index, data.batch\n",
    "        x = self.conv1(x, edge_index)\n",
    "        x = F.relu(x)\n",
    "        x = self.conv2(x, edge_index)\n",
    "        x = F.relu(x)\n",
    "        x = global_add_pool(x, data.batch)\n",
    "        x = F.relu(x)\n",
    "        x = torch.cat((x,torch.tensor(node_features, requires_grad=True)), 1)\n",
    "        initial_cell = self.graph_to_c0(x)\n",
    "        initial_hid = self.graph_to_h0(x)\n",
    "#         inp = torch.unsqueeze(adj, 2).float()\n",
    "        state = (initial_cell[None], initial_hid[None])\n",
    "        lstm_out, state = self.lstm(adj, state)\n",
    "        logits = self.logits(lstm_out)\n",
    "        res = F.softmax(logits)\n",
    "        return res"
   ]
  },
  {
   "cell_type": "code",
   "execution_count": 26,
   "metadata": {},
   "outputs": [],
   "source": [
    "device = torch.device('cuda:0' if torch.cuda.is_available() else 'cpu')\n",
    "model = Net2()\n",
    "model = model.to(device)\n",
    "optimizer = torch.optim.Adam(model.parameters(), \n",
    "                       lr=1e-2)"
   ]
  },
  {
   "cell_type": "code",
   "execution_count": 27,
   "metadata": {},
   "outputs": [],
   "source": [
    "def computeLoss2(network, batch, el_num, batch_size):\n",
    "    info = create_batch(batch, el_num)\n",
    "    loader = DataLoader(info[0], batch_size=batch_size)\n",
    "    now_caption = torch.tensor(info[1])[:,:-1]\n",
    "    next_caption = torch.tensor(info[1])[:,1:].to(device)\n",
    "    node_features = torch.tensor(info[2]).to(device)\n",
    "    nodes = torch.tensor(info[3]).to(device)\n",
    "    for i in loader:\n",
    "        q = i\n",
    "        q = q.to(device)\n",
    "        preds = network.forward(q, node_features, nodes)\n",
    "    loss = nn.CrossEntropyLoss()\n",
    "    preds = torch.transpose(preds, 1, 2)\n",
    "    output = loss(preds, next_caption.long())\n",
    "    return(output)"
   ]
  },
  {
   "cell_type": "code",
   "execution_count": null,
   "metadata": {},
   "outputs": [],
   "source": []
  },
  {
   "cell_type": "code",
   "execution_count": null,
   "metadata": {},
   "outputs": [],
   "source": []
  },
  {
   "cell_type": "code",
   "execution_count": null,
   "metadata": {},
   "outputs": [],
   "source": []
  },
  {
   "cell_type": "code",
   "execution_count": 30,
   "metadata": {},
   "outputs": [],
   "source": [
    "from IPython.display import clear_output\n",
    "import matplotlib.pyplot as plt\n",
    "%matplotlib inline"
   ]
  },
  {
   "cell_type": "code",
   "execution_count": null,
   "metadata": {},
   "outputs": [],
   "source": []
  },
  {
   "cell_type": "code",
   "execution_count": 33,
   "metadata": {},
   "outputs": [
    {
     "name": "stdout",
     "output_type": "stream",
     "text": [
      "0.6931659877300262\n",
      "0.6931395530700684\n",
      "0.6931557953357697\n",
      "0.6931522190570831\n",
      "0.6931534856557846\n",
      "0.6931499242782593\n",
      "0.6931523680686951\n",
      "0.6931585967540741\n",
      "0.6931524127721786\n"
     ]
    },
    {
     "ename": "RuntimeError",
     "evalue": "CUDA error: unspecified launch failure",
     "output_type": "error",
     "traceback": [
      "\u001b[1;31m---------------------------------------------------------------------------\u001b[0m",
      "\u001b[1;31mRuntimeError\u001b[0m                              Traceback (most recent call last)",
      "\u001b[1;32m<ipython-input-33-1d2114731473>\u001b[0m in \u001b[0;36m<module>\u001b[1;34m\u001b[0m\n\u001b[0;32m     19\u001b[0m         \u001b[0mloss_value\u001b[0m \u001b[1;33m=\u001b[0m \u001b[0mcomputeLoss2\u001b[0m\u001b[1;33m(\u001b[0m\u001b[0mmodel\u001b[0m\u001b[1;33m,\u001b[0m \u001b[0mx_batch\u001b[0m\u001b[1;33m,\u001b[0m \u001b[0m_\u001b[0m\u001b[1;33m,\u001b[0m \u001b[0mbatch_size\u001b[0m\u001b[1;33m)\u001b[0m\u001b[1;33m\u001b[0m\u001b[1;33m\u001b[0m\u001b[0m\n\u001b[0;32m     20\u001b[0m         \u001b[0mloss_value\u001b[0m\u001b[1;33m.\u001b[0m\u001b[0mbackward\u001b[0m\u001b[1;33m(\u001b[0m\u001b[1;33m)\u001b[0m\u001b[1;33m\u001b[0m\u001b[1;33m\u001b[0m\u001b[0m\n\u001b[1;32m---> 21\u001b[1;33m         \u001b[0moptimizer\u001b[0m\u001b[1;33m.\u001b[0m\u001b[0mstep\u001b[0m\u001b[1;33m(\u001b[0m\u001b[1;33m)\u001b[0m\u001b[1;33m\u001b[0m\u001b[1;33m\u001b[0m\u001b[0m\n\u001b[0m\u001b[0;32m     22\u001b[0m         \u001b[0mtrain_loss\u001b[0m \u001b[1;33m+=\u001b[0m \u001b[0mloss_value\u001b[0m\u001b[1;33m.\u001b[0m\u001b[0mitem\u001b[0m\u001b[1;33m(\u001b[0m\u001b[1;33m)\u001b[0m\u001b[1;33m\u001b[0m\u001b[1;33m\u001b[0m\u001b[0m\n\u001b[0;32m     23\u001b[0m     \u001b[0mtrain_loss\u001b[0m \u001b[1;33m/=\u001b[0m \u001b[1;33m(\u001b[0m\u001b[0mn_batches_per_epoch\u001b[0m\u001b[1;33m)\u001b[0m\u001b[1;33m\u001b[0m\u001b[1;33m\u001b[0m\u001b[0m\n",
      "\u001b[1;32md:\\mlp\\venv\\lib\\site-packages\\torch\\autograd\\grad_mode.py\u001b[0m in \u001b[0;36mdecorate_context\u001b[1;34m(*args, **kwargs)\u001b[0m\n\u001b[0;32m     13\u001b[0m         \u001b[1;32mdef\u001b[0m \u001b[0mdecorate_context\u001b[0m\u001b[1;33m(\u001b[0m\u001b[1;33m*\u001b[0m\u001b[0margs\u001b[0m\u001b[1;33m,\u001b[0m \u001b[1;33m**\u001b[0m\u001b[0mkwargs\u001b[0m\u001b[1;33m)\u001b[0m\u001b[1;33m:\u001b[0m\u001b[1;33m\u001b[0m\u001b[1;33m\u001b[0m\u001b[0m\n\u001b[0;32m     14\u001b[0m             \u001b[1;32mwith\u001b[0m \u001b[0mself\u001b[0m\u001b[1;33m:\u001b[0m\u001b[1;33m\u001b[0m\u001b[1;33m\u001b[0m\u001b[0m\n\u001b[1;32m---> 15\u001b[1;33m                 \u001b[1;32mreturn\u001b[0m \u001b[0mfunc\u001b[0m\u001b[1;33m(\u001b[0m\u001b[1;33m*\u001b[0m\u001b[0margs\u001b[0m\u001b[1;33m,\u001b[0m \u001b[1;33m**\u001b[0m\u001b[0mkwargs\u001b[0m\u001b[1;33m)\u001b[0m\u001b[1;33m\u001b[0m\u001b[1;33m\u001b[0m\u001b[0m\n\u001b[0m\u001b[0;32m     16\u001b[0m         \u001b[1;32mreturn\u001b[0m \u001b[0mdecorate_context\u001b[0m\u001b[1;33m\u001b[0m\u001b[1;33m\u001b[0m\u001b[0m\n\u001b[0;32m     17\u001b[0m \u001b[1;33m\u001b[0m\u001b[0m\n",
      "\u001b[1;32md:\\mlp\\venv\\lib\\site-packages\\torch\\optim\\adam.py\u001b[0m in \u001b[0;36mstep\u001b[1;34m(self, closure)\u001b[0m\n\u001b[0;32m    105\u001b[0m                     \u001b[0mdenom\u001b[0m \u001b[1;33m=\u001b[0m \u001b[1;33m(\u001b[0m\u001b[0mmax_exp_avg_sq\u001b[0m\u001b[1;33m.\u001b[0m\u001b[0msqrt\u001b[0m\u001b[1;33m(\u001b[0m\u001b[1;33m)\u001b[0m \u001b[1;33m/\u001b[0m \u001b[0mmath\u001b[0m\u001b[1;33m.\u001b[0m\u001b[0msqrt\u001b[0m\u001b[1;33m(\u001b[0m\u001b[0mbias_correction2\u001b[0m\u001b[1;33m)\u001b[0m\u001b[1;33m)\u001b[0m\u001b[1;33m.\u001b[0m\u001b[0madd_\u001b[0m\u001b[1;33m(\u001b[0m\u001b[0mgroup\u001b[0m\u001b[1;33m[\u001b[0m\u001b[1;34m'eps'\u001b[0m\u001b[1;33m]\u001b[0m\u001b[1;33m)\u001b[0m\u001b[1;33m\u001b[0m\u001b[1;33m\u001b[0m\u001b[0m\n\u001b[0;32m    106\u001b[0m                 \u001b[1;32melse\u001b[0m\u001b[1;33m:\u001b[0m\u001b[1;33m\u001b[0m\u001b[1;33m\u001b[0m\u001b[0m\n\u001b[1;32m--> 107\u001b[1;33m                     \u001b[0mdenom\u001b[0m \u001b[1;33m=\u001b[0m \u001b[1;33m(\u001b[0m\u001b[0mexp_avg_sq\u001b[0m\u001b[1;33m.\u001b[0m\u001b[0msqrt\u001b[0m\u001b[1;33m(\u001b[0m\u001b[1;33m)\u001b[0m \u001b[1;33m/\u001b[0m \u001b[0mmath\u001b[0m\u001b[1;33m.\u001b[0m\u001b[0msqrt\u001b[0m\u001b[1;33m(\u001b[0m\u001b[0mbias_correction2\u001b[0m\u001b[1;33m)\u001b[0m\u001b[1;33m)\u001b[0m\u001b[1;33m.\u001b[0m\u001b[0madd_\u001b[0m\u001b[1;33m(\u001b[0m\u001b[0mgroup\u001b[0m\u001b[1;33m[\u001b[0m\u001b[1;34m'eps'\u001b[0m\u001b[1;33m]\u001b[0m\u001b[1;33m)\u001b[0m\u001b[1;33m\u001b[0m\u001b[1;33m\u001b[0m\u001b[0m\n\u001b[0m\u001b[0;32m    108\u001b[0m \u001b[1;33m\u001b[0m\u001b[0m\n\u001b[0;32m    109\u001b[0m                 \u001b[0mstep_size\u001b[0m \u001b[1;33m=\u001b[0m \u001b[0mgroup\u001b[0m\u001b[1;33m[\u001b[0m\u001b[1;34m'lr'\u001b[0m\u001b[1;33m]\u001b[0m \u001b[1;33m/\u001b[0m \u001b[0mbias_correction1\u001b[0m\u001b[1;33m\u001b[0m\u001b[1;33m\u001b[0m\u001b[0m\n",
      "\u001b[1;31mRuntimeError\u001b[0m: CUDA error: unspecified launch failure"
     ]
    }
   ],
   "source": [
    "num_epoch = 20\n",
    "n_batches_per_epoch = 4\n",
    "batch_size = 3\n",
    "n_validation_batches = 3\n",
    "train_losses = []\n",
    "val_losses = []\n",
    "for epoch in range(num_epoch):\n",
    "    train_loss= 0\n",
    "    val_loss = 0\n",
    "    model.train(True)\n",
    "    order = np.random.permutation(len(train))\n",
    "    order2 = np.random.permutation(len(test))\n",
    "    indexes = np.random.randint(1, 10000, n_batches_per_epoch)\n",
    "    for _ in (indexes):\n",
    "        optimizer.zero_grad()\n",
    "        batch_indexes = order[0:0+batch_size]\n",
    "        x_batch = train[batch_indexes]\n",
    "        x_batch = list(np.array(x_batch))\n",
    "        loss_value = computeLoss2(model, x_batch, _, batch_size)\n",
    "        loss_value.backward()\n",
    "        optimizer.step()\n",
    "        train_loss += loss_value.item()\n",
    "    train_loss /= (n_batches_per_epoch)\n",
    "    print(train_loss)\n",
    "#     train_losses.append(train_loss)\n",
    "#     model.train(False)\n",
    "#     for _ in range(n_validation_batches):\n",
    "#         batch_indexes = order2[0:0+batch_size]\n",
    "#         x_batch = list(np.array(x_batch))\n",
    "#         loss_value = computeLoss2(model, x_batch, _, batch_size)\n",
    "#         val_loss += loss_value.item()\n",
    "#     val_loss /= (n_validation_batches)\n",
    "#     val_losses.append(val_loss)\n",
    "#     clear_output()\n",
    "#     plt.figure(figsize = (10, 6))\n",
    "#     plt.plot(train_losses, label = 'Train loss', color = 'blue')\n",
    "#     plt.plot(val_losses, label = 'Val loss', color = 'orange')\n",
    "#     plt.axhline(y=3.0, color='gray', linestyle='--', label = 'Target loss')\n",
    "#     plt.legend()\n",
    "#     plt.ylabel('Loss')\n",
    "#     plt.show()"
   ]
  },
  {
   "cell_type": "code",
   "execution_count": null,
   "metadata": {},
   "outputs": [],
   "source": []
  },
  {
   "cell_type": "code",
   "execution_count": null,
   "metadata": {
    "scrolled": false
   },
   "outputs": [],
   "source": []
  },
  {
   "cell_type": "code",
   "execution_count": null,
   "metadata": {},
   "outputs": [],
   "source": []
  },
  {
   "cell_type": "code",
   "execution_count": null,
   "metadata": {},
   "outputs": [],
   "source": []
  },
  {
   "cell_type": "code",
   "execution_count": null,
   "metadata": {},
   "outputs": [],
   "source": []
  },
  {
   "cell_type": "code",
   "execution_count": null,
   "metadata": {},
   "outputs": [],
   "source": []
  },
  {
   "cell_type": "code",
   "execution_count": null,
   "metadata": {},
   "outputs": [],
   "source": []
  },
  {
   "cell_type": "code",
   "execution_count": null,
   "metadata": {},
   "outputs": [],
   "source": []
  },
  {
   "cell_type": "code",
   "execution_count": null,
   "metadata": {},
   "outputs": [],
   "source": []
  },
  {
   "cell_type": "code",
   "execution_count": null,
   "metadata": {},
   "outputs": [],
   "source": []
  },
  {
   "cell_type": "code",
   "execution_count": null,
   "metadata": {},
   "outputs": [],
   "source": []
  },
  {
   "cell_type": "code",
   "execution_count": null,
   "metadata": {},
   "outputs": [],
   "source": []
  },
  {
   "cell_type": "code",
   "execution_count": null,
   "metadata": {},
   "outputs": [],
   "source": []
  },
  {
   "cell_type": "code",
   "execution_count": null,
   "metadata": {},
   "outputs": [],
   "source": []
  },
  {
   "cell_type": "code",
   "execution_count": null,
   "metadata": {},
   "outputs": [],
   "source": []
  },
  {
   "cell_type": "code",
   "execution_count": null,
   "metadata": {},
   "outputs": [],
   "source": []
  }
 ],
 "metadata": {
  "kernelspec": {
   "display_name": "Python 3",
   "language": "python",
   "name": "python3"
  },
  "language_info": {
   "codemirror_mode": {
    "name": "ipython",
    "version": 3
   },
   "file_extension": ".py",
   "mimetype": "text/x-python",
   "name": "python",
   "nbconvert_exporter": "python",
   "pygments_lexer": "ipython3",
   "version": "3.8.3"
  }
 },
 "nbformat": 4,
 "nbformat_minor": 4
}
